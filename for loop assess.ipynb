{
 "cells": [
  {
   "cell_type": "code",
   "execution_count": 1,
   "id": "d092f22c-8e5b-42c7-a21b-659ebe18ae3a",
   "metadata": {},
   "outputs": [
    {
     "name": "stdout",
     "output_type": "stream",
     "text": [
      "1\n",
      "2\n",
      "3\n",
      "4\n",
      "5\n",
      "6\n"
     ]
    }
   ],
   "source": [
    "#Ans 1:- \n",
    "# For loop is used when we need to iterate by a certain number\n",
    "# example of for loop\n",
    "# if an list \"L\" has [1,2,3,4,5,6]\n",
    "L=[1,2,3,4,5,6]\n",
    "# and we want to iterate through each element then code will be:\n",
    "for i in L:\n",
    "    print(i)\n"
   ]
  },
  {
   "cell_type": "code",
   "execution_count": 2,
   "id": "5c67c2b7-1420-4283-ae2a-2d3814b3e0f6",
   "metadata": {},
   "outputs": [
    {
     "name": "stdout",
     "output_type": "stream",
     "text": [
      "5\n",
      "6\n",
      "7\n",
      "8\n",
      "9\n",
      "10\n"
     ]
    }
   ],
   "source": [
    "# while loop is used when number of iterations is unknown.\n",
    "# And when we want to repeat some task untill certain condition is met true.\n",
    "# for example:\n",
    "# If we want to print numbers from 5 to 10 then code will be:\n",
    "n=5\n",
    "while(n<11):\n",
    "    print(n)\n",
    "    n+=1"
   ]
  },
  {
   "cell_type": "code",
   "execution_count": 13,
   "id": "6d2a8db3-e7cc-41a3-adf3-6308c0afacf7",
   "metadata": {},
   "outputs": [
    {
     "name": "stdout",
     "output_type": "stream",
     "text": [
      "56\n"
     ]
    }
   ],
   "source": [
    "#Ans 2;-\n",
    "# python program for printing the sum of first 10 natural numbers\n",
    "sum=1\n",
    "for i in range(1,11):\n",
    "    sum+=i\n",
    "print(sum)"
   ]
  },
  {
   "cell_type": "code",
   "execution_count": 11,
   "id": "35e78199-b887-43ac-9201-35ce6ec919c1",
   "metadata": {},
   "outputs": [
    {
     "name": "stdout",
     "output_type": "stream",
     "text": [
      "3628800\n"
     ]
    }
   ],
   "source": [
    "# python program for printing the product of first 10 natural numbers.\n",
    "product=1\n",
    "for i in range(1,11):\n",
    "    product*=i\n",
    "print(product)"
   ]
  },
  {
   "cell_type": "code",
   "execution_count": 24,
   "id": "237c7c3b-4696-4764-8e26-0e5ca707f69c",
   "metadata": {},
   "outputs": [
    {
     "name": "stdin",
     "output_type": "stream",
     "text": [
      "Enter the number of units:  356\n"
     ]
    },
    {
     "name": "stdout",
     "output_type": "stream",
     "text": [
      "total:  3170\n"
     ]
    }
   ],
   "source": [
    "#Ans 3:-\n",
    "#taking unit as input\n",
    "units=int(input(\"Enter the number of units: \"))\n",
    "if (units<101):\n",
    "    print(\"total: \", units*4.5)\n",
    "elif (units>100 and units<201):\n",
    "    total=(450+(units-100)*6)\n",
    "    print(\"total: \", total)\n",
    "elif (units>200 and units<301):\n",
    "    total=(450+600+(units-200)*10)\n",
    "    print(\"total: \", total)\n",
    "elif (units>300):\n",
    "    total=(450+600+1000+(units-300)*20)\n",
    "    print(\"total: \", total)"
   ]
  },
  {
   "cell_type": "code",
   "execution_count": 39,
   "id": "0266771a-3546-4e95-bc14-e89704fe477c",
   "metadata": {},
   "outputs": [
    {
     "name": "stdout",
     "output_type": "stream",
     "text": [
      "[2, 4, 5, 6, 8, 10, 12, 14, 15, 16, 18, 20, 22, 24, 25, 26, 28, 30, 32, 34, 35, 36, 38, 40, 42, 44, 45, 46, 48, 50, 52, 54, 55, 56, 58, 60, 62, 64, 65, 66, 68, 70, 72, 74, 75, 76, 78, 80, 82, 84, 85, 86, 88, 90, 92, 94, 95, 96, 98, 100]\n"
     ]
    }
   ],
   "source": [
    "#Ans 4: \n",
    "l=list(range(1,101))\n",
    "#using for loop \n",
    "lst=[]\n",
    "for i in l:\n",
    "    cube=i*i*i\n",
    "    if (cube%4==0 or cube%5==0):\n",
    "        lst.append(i)\n",
    "#printing list\n",
    "print(lst)"
   ]
  },
  {
   "cell_type": "code",
   "execution_count": 42,
   "id": "65841209-4253-4b4a-9390-a5d0c3529830",
   "metadata": {},
   "outputs": [
    {
     "name": "stdout",
     "output_type": "stream",
     "text": [
      "[2, 4, 5, 6, 8, 10, 12, 14, 15, 16, 18, 20, 22, 24, 25, 26, 28, 30, 32, 34, 35, 36, 38, 40, 42, 44, 45, 46, 48, 50, 52, 54, 55, 56, 58, 60, 62, 64, 65, 66, 68, 70, 72, 74, 75, 76, 78, 80, 82, 84, 85, 86, 88, 90, 92, 94, 95, 96, 98, 100]\n"
     ]
    }
   ],
   "source": [
    "#using while loop \n",
    "l=list(range(1,101))\n",
    "lst=[]\n",
    "i=0\n",
    "while(i<len(l)):\n",
    "    cube=l[i]*l[i]*l[i]\n",
    "    if (cube%4==0 or cube%5==0):\n",
    "        lst.append(l[i])\n",
    "    i+=1\n",
    "#printing list\n",
    "print(lst)"
   ]
  },
  {
   "cell_type": "code",
   "execution_count": 46,
   "id": "e5be5e6d-93b3-4c73-8a56-0bea1d9edf5e",
   "metadata": {},
   "outputs": [
    {
     "name": "stdout",
     "output_type": "stream",
     "text": [
      "12\n"
     ]
    }
   ],
   "source": [
    "#Ans 5:\n",
    "string=\"i want to become a data scientist\"\n",
    "count=0\n",
    "lst=['a','e','i','o','u']\n",
    "for i in string:\n",
    "    if(i in lst):\n",
    "        count+=1\n",
    "        \n",
    "print(count)"
   ]
  }
 ],
 "metadata": {
  "kernelspec": {
   "display_name": "Python 3 (ipykernel)",
   "language": "python",
   "name": "python3"
  },
  "language_info": {
   "codemirror_mode": {
    "name": "ipython",
    "version": 3
   },
   "file_extension": ".py",
   "mimetype": "text/x-python",
   "name": "python",
   "nbconvert_exporter": "python",
   "pygments_lexer": "ipython3",
   "version": "3.10.8"
  }
 },
 "nbformat": 4,
 "nbformat_minor": 5
}
